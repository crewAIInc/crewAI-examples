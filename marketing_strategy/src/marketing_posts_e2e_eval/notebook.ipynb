{
 "cells": [
  {
   "cell_type": "code",
   "execution_count": 1,
   "metadata": {},
   "outputs": [],
   "source": [
    "# # Install fixes to crewai and crewai_tools:\n",
    "# ! pip uninstall -y crewai crewai_tools\n",
    "# ! pip install git+https://github.com/piotrm0/crewAI@piotrm/wraps\n",
    "# ! pip install git+https://github.com/piotrm0/crewAI-tools@piotrm/base_tool \n",
    "# ! pip list | grep crew"
   ]
  },
  {
   "cell_type": "code",
   "execution_count": 2,
   "metadata": {},
   "outputs": [],
   "source": [
    "from pathlib import Path\n",
    "import sys\n",
    "import os\n",
    "\n",
    "sys.path.append(str(Path.cwd().parent))\n",
    "\n",
    "from dotenv import load_dotenv\n",
    "load_dotenv()\n",
    "\n",
    "# If you have these in your env, they seem to be picked up by litellm for\n",
    "# requests which should not use them and thus cause problems.\n",
    "del os.environ['AWS_ACCESS_KEY_ID']\n",
    "del os.environ['AWS_SECRET_ACCESS_KEY']"
   ]
  },
  {
   "cell_type": "code",
   "execution_count": 4,
   "metadata": {},
   "outputs": [
    {
     "name": "stderr",
     "output_type": "stream",
     "text": [
      "Updating app_name and app_version in apps table: 0it [00:00, ?it/s]\n",
      "Updating app_id in records table: 0it [00:00, ?it/s]\n",
      "Updating app_json in apps table: 0it [00:00, ?it/s]"
     ]
    },
    {
     "name": "stdout",
     "output_type": "stream",
     "text": [
      "Starting dashboard ...\n"
     ]
    },
    {
     "name": "stderr",
     "output_type": "stream",
     "text": [
      "\n"
     ]
    },
    {
     "data": {
      "application/vnd.jupyter.widget-view+json": {
       "model_id": "ba5f98d16e284f3a9bf6f3c16ff1a08f",
       "version_major": 2,
       "version_minor": 0
      },
      "text/plain": [
       "Accordion(children=(VBox(children=(VBox(children=(Label(value='STDOUT'), Output())), VBox(children=(Label(valu…"
      ]
     },
     "metadata": {},
     "output_type": "display_data"
    },
    {
     "name": "stdout",
     "output_type": "stream",
     "text": [
      "Dashboard started at http://10.10.225.241:8080 .\n"
     ]
    },
    {
     "data": {
      "text/plain": [
       "<Popen: returncode: None args: ['streamlit', 'run', '--server.headless=True'...>"
      ]
     },
     "execution_count": 4,
     "metadata": {},
     "output_type": "execute_result"
    }
   ],
   "source": [
    "import trulens.core.utils.threading # to patch Thread and ThreadPoolExecutor\n",
    "from trulens.core.session import TruSession\n",
    "from trulens.apps.custom import TruCustomApp\n",
    "\n",
    "session = TruSession()\n",
    "session.experimental_enable_feature(\"otel_tracing\")\n",
    "\n",
    "session.reset_database()\n",
    "session.start_dashboard(force=True, port=8080)"
   ]
  },
  {
   "cell_type": "code",
   "execution_count": 5,
   "metadata": {},
   "outputs": [
    {
     "name": "stdout",
     "output_type": "stream",
     "text": [
      "🔒 experimental Feature.OTEL_TRACING is enabled and cannot be changed.\n"
     ]
    }
   ],
   "source": [
    "from evaluator_crew.eval_crew import EvaluatorCrew\n",
    "from marketing_crew.marketing_crew import MarketingPostsCrew\n",
    "\n",
    "e2e_evaluator_crew = EvaluatorCrew()\n",
    "e2e_evaluator_crew.crew = e2e_evaluator_crew.crew()\n",
    "\n",
    "marketing_posts_crew = MarketingPostsCrew()\n",
    "marketing_posts_crew.crew = marketing_posts_crew.crew()\n",
    "\n",
    "tru_marketing_posts_crew = TruCustomApp(marketing_posts_crew, app_name=\"MarketingPostsCrew\", app_version=\"1.0.0\", feedbacks=[])"
   ]
  },
  {
   "cell_type": "code",
   "execution_count": null,
   "metadata": {},
   "outputs": [],
   "source": [
    "inputs = {\n",
    "      'customer_domain': 'crewai.com',\n",
    "            'project_description': \"\"\"\n",
    "            CrewAI, a leading provider of multi-agent systems, aims to revolutionize marketing automation for its enterprise clients.\n",
    "            This project involves developing an innovative marketing strategy to showcase CrewAI's advanced AI-driven solutions,\n",
    "            emphasizing ease of use, scalability, and integration capabilities.\n",
    "            The campaign will target tech-savvy decision-makers in medium to large enterprises, highlighting success stories and the transformative potential of CrewAI's platform.\n",
    "\n",
    "            Customer Domain: AI and Automation Solutions\n",
    "            Project Overview: Creating a comprehensive marketing campaign to boost awareness and adoption of CrewAI's services among enterprise clients.\n",
    "            Secondary goal: During the execution of the multi-agent system/tasks, evaluate the quality of answers at each step.\n",
    "            \"\"\",\n",
    "            'previous_marketing_post': \"\",\n",
    "            'feedback': \"\",\n",
    "}\n",
    "\n",
    "with tru_marketing_posts_crew as recorder:\n",
    "    result = marketing_posts_crew.crew.kickoff(inputs=inputs)"
   ]
  },
  {
   "cell_type": "code",
   "execution_count": null,
   "metadata": {},
   "outputs": [],
   "source": [
    "for record in recorder.records:\n",
    "    print(record.record_id)\n",
    "    print(record)"
   ]
  }
 ],
 "metadata": {
  "kernelspec": {
   "display_name": "trulens",
   "language": "python",
   "name": "python3"
  },
  "language_info": {
   "codemirror_mode": {
    "name": "ipython",
    "version": 3
   },
   "file_extension": ".py",
   "mimetype": "text/x-python",
   "name": "python",
   "nbconvert_exporter": "python",
   "pygments_lexer": "ipython3",
   "version": "3.11.9"
  }
 },
 "nbformat": 4,
 "nbformat_minor": 2
}
